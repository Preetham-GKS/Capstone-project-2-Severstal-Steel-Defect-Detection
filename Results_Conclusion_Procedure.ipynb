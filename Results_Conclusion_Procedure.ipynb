{
 "cells": [
  {
   "cell_type": "markdown",
   "metadata": {
    "colab": {},
    "colab_type": "code",
    "id": "5PX0YalmdZrh"
   },
   "source": [
    "<h1 style=\"text-align:center;font-size:40px;\" > Results Summary </h1>"
   ]
  },
  {
   "cell_type": "code",
   "execution_count": 2,
   "metadata": {},
   "outputs": [
    {
     "name": "stdout",
     "output_type": "stream",
     "text": [
      "+--------------+-------------------------+------------------------+\n",
      "| Architecture | Test Dice_coeff-Private | Test Dice_coeff-Public |\n",
      "+--------------+-------------------------+------------------------+\n",
      "|     UNET     |         0.81171         |        0.80041         |\n",
      "|    SEGNET    |         0.83437         |        0.84741         |\n",
      "|    FCN-8     |         0.82818         |        0.84935         |\n",
      "+--------------+-------------------------+------------------------+\n"
     ]
    }
   ],
   "source": [
    "#Ref: http://zetcode.com/python/prettytable/\n",
    "from prettytable import PrettyTable\n",
    "\n",
    "\n",
    "x = PrettyTable()\n",
    "x.field_names = [\"Architecture\",\"Test Dice_coeff-Private\",\"Test Dice_coeff-Public\"]\n",
    "x.add_row([\"UNET\",0.81171,0.80041])\n",
    "x.add_row([\"SEGNET\",0.83437,0.84741])\n",
    "x.add_row([\"FCN-8\",0.82818,0.84935])\n",
    "print(x)"
   ]
  },
  {
   "cell_type": "markdown",
   "metadata": {},
   "source": [
    "<h1 style=\"text-align:center;font-size:40px;\" > Conclusion </h1>"
   ]
  },
  {
   "cell_type": "markdown",
   "metadata": {},
   "source": [
    "- Countered the issue of class imbalance by assigning class weights (calculated using SKLearn) during the training stage\n",
    "- Model training for all architectures was done on resized 128x800 images considering efficiency and computational power\n",
    "- Model prediction on full sized raw test images (256x1600) gave better scores compared to prediction on half images (128x800)\n",
    "- Highest score of 0.83437 on private leaderboard & 0.84935 on public leaderboard was obtained with SEGNET & FCN-8 architecture respectively. These scores were better compared to the basic U-NET architecture which was the first cut aproach."
   ]
  },
  {
   "cell_type": "markdown",
   "metadata": {},
   "source": [
    "<h1 style=\"text-align:center;font-size:40px;\" > Steps followed to solve this case study(in brief): </h1>"
   ]
  },
  {
   "cell_type": "markdown",
   "metadata": {},
   "source": [
    "1. The first basic step was to carry out EDA on the defect data. This included analysing images in train & test folder to get a gist of defective & non-defective images, knowing the basic properties of the given images, analysing response label, determining class weights, checking number of labels tagged to each image & observing images with defects belonging to each class.\n",
    "2. EDA was then followed by Data preparation stage where a master csv file was prepared in which each row represented a image with all possible defects that image possessed.\n",
    "3. The final data was split into train & CV data in the ratio 85:15 and basic utility functions were defined.\n",
    "4. Next was the data generator phase where train & validation data was generated in order to feed the keras models with augmented images (in case of train) and ground truth masks.\n",
    "5. Once the flow of input was set, it was time to implement various segmentation architectures, This included UNET, SEGNET & FCN-8.\n",
    "6. For each architecture, the performance was checked on the validation image data and few predicted masks were observed.\n",
    "7. Predictions were made on full sized (i.e 256x1600) raw test images and the predicted masks were observed.\n",
    "8. Predictions on test images were uploaded on kaggle to get the dice coefficient score"
   ]
  }
 ],
 "metadata": {
  "accelerator": "GPU",
  "colab": {
   "collapsed_sections": [
    "7vzgWq-CTTKa",
    "976mUrXvTTKd",
    "_METQ8pmTTLJ",
    "jSiJC-XUTTLQ",
    "DDjG42zjTTLW",
    "DUd0jF7xTTLd",
    "Wf98nG_aTTLn",
    "tKe3CNPoTTLt",
    "3Xmy9zXlTTLv",
    "6IRZeea4TTL_",
    "AasOVJmVTTMf",
    "zU9RCYofTTMw",
    "GDItHjLFTTOU",
    "nAeAQ2KKIPzE",
    "-vc0ToX7IPzH",
    "MPFVFEK2TTOn"
   ],
   "name": "SSD_Unet_sub.ipynb",
   "provenance": [],
   "toc_visible": true
  },
  "kernelspec": {
   "display_name": "Python 3",
   "language": "python",
   "name": "python3"
  },
  "language_info": {
   "codemirror_mode": {
    "name": "ipython",
    "version": 3
   },
   "file_extension": ".py",
   "mimetype": "text/x-python",
   "name": "python",
   "nbconvert_exporter": "python",
   "pygments_lexer": "ipython3",
   "version": "3.6.5"
  }
 },
 "nbformat": 4,
 "nbformat_minor": 1
}
